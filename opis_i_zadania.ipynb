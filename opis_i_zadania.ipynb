{
 "cells": [
  {
   "metadata": {},
   "cell_type": "markdown",
   "source": [
    "Projekt dotyczy implementacji i analizy numerycznych metod rozwiązywania układów równań liniowych.  Należy zaimplementować dwie metody iteracyjne (Jacobiego i Gaussa-Seidla) oraz jedną metodę bezpośrednią (faktoryzacja LU).  Program ma być napisany w Pythonie z opcjonalnym użyciem biblioteki numpy do operacji na macierzach.\n",
    "\n"
   ],
   "id": "9a712bda2a81b68a"
  },
  {
   "metadata": {},
   "cell_type": "markdown",
   "source": [
    "Konstrukcja układu równań\n",
    "\n",
    "Układ równań liniowych ma postać:\n",
    "\n",
    "`Ax = b`   (1)\n",
    "\n",
    "gdzie:\n",
    "\n",
    "* A - macierz systemowa\n",
    "* b - wektor pobudzenia\n",
    "* x - wektor rozwiązań\n",
    "\n",
    "Na potrzeby projektu należy przyjąć, że **A** jest tzw. *macierzą pasmową* o rozmiarze **N × N**, zdefiniowaną w (2), gdzie:\n",
    "\n",
    "- **N = 1200 + 10c + d**,\n",
    "- **c** – przedostatnia cyfra numeru indeksu,\n",
    "- **d** – ostatnia cyfra numeru indeksu.\n",
    "\n",
    "Macierz **A** zawiera pięć diagonalnych pasm:\n",
    "- główna diagonalna – elementy `a₁`,\n",
    "- dwie sąsiednie – elementy `a₂`,\n",
    "- dwie skrajne – elementy `a₃`.\n",
    "\n",
    "Macierz **A** ma strukturę:\n",
    "\n",
    "```\n",
    "A =\n",
    "⎡ a₁ a₂ a₃  0   0   0   0  ...   0 ⎤\n",
    "⎢ a₂ a₁ a₂  a₃  0   0   0  ...   0 ⎥\n",
    "⎢ a₃ a₂ a₁  a₂  a₃  0   0  ...   0 ⎥\n",
    "⎢ 0  a₃ a₂  a₁  a₂  a₃  0  ...   0 ⎥\n",
    "⎢  .   .   .   .   .   .   .   .   ⎥\n",
    "⎢  .   .   .   .   .   .   .   .   ⎥\n",
    "⎣ 0  0  ...          0   a₃  a₂  a₁⎦\n",
    "```\n",
    "\n",
    "Prawa strona to wektor b o długości `N`.\n",
    "\n",
    "Rozwiązanie układu (1) daje wektor x.\n",
    "\n",
    "\n",
    "## 3. Wektor residuum\n",
    "\n",
    "Ważnym elementem algorytmów iteracyjnych (np. Jacobiego i Gaussa-Seidla) jest określenie, w której iteracji algorytm powinien się zatrzymać. W tym celu najczęściej korzysta się z **residuum** [^1], czyli wektora, który dla *k*-tej iteracji przyjmuje postać:\n",
    "\n",
    "**r(k) = A·x(k) − b** &nbsp;&nbsp;&nbsp;&nbsp;*(3)*\n",
    "\n",
    "Badając normę euklidesową residuum (`norm(r(k))`), możemy w każdej iteracji algorytmu obliczyć, jaki błąd wnosi wektor `x(k)`. Jeżeli algorytm zbiegnie się do dokładnego rozwiązania, to residuum będzie wektorem zerowym.\n",
    "\n",
    "Ze względu na to, że metody iteracyjne praktycznie nigdy nie generują wektora residuum równego zero, podstawowe **kryterium zakończenia obliczeń** określane jest jako osiągnięcie normy residuum **mniejszej niż zadana wartość**, np. `10⁻⁶`.\n"
   ],
   "id": "2d128e1aebe03603"
  },
  {
   "metadata": {},
   "cell_type": "markdown",
   "source": [
    "## Zadania\n",
    "Sprawozdanie powinno zawierać m.in. analizę rezultatów osiągniętych w zadaniach B, C, D, E wraz z wykresami wskazanymi w opisie zadań.\n",
    "- Zadanie A – Stwórz układ równań dla $a1 = 5+e$, gdzie $e$ jest **czwartą cyfrą Twojego indeksu**,\n",
    "$a2 = a3 = −1$. Rozmiar macierzy N zdefiniowano w punkcie 2 tej instrukcji. $b$ jest wektorem\n",
    "o długości $N$, którego n−ty element ma wartość $sin(n * (f + 1))$, gdzie $f$ jest **trzecią cyfrą\n",
    "Twojego indeksu**. We wstępie sprawozdania opisz rozwiązywane równanie macierzowe. (5%)\n",
    "- Zadanie B – Zaimplementuj metody iteracyjne rozwiązywania układów równań liniowych:\n",
    "Jacobiego i Gaussa–Seidla. Opisz ile iteracji potrzebuje każda z tych metod do wyznaczenia\n",
    "rozwiązania układu równań z zadania A, przy założeniu, że warunkiem zakończenia obliczeń\n",
    "jest osiągnięcie normy residuum mniejszej niż $10^{−9}$. Dla obu metod przedstaw na wykresie\n",
    "jak zmienia się norma residuum w kolejnych iteracjach wykonywanych w celu wyznaczenia\n",
    "rozwiązania (oś y w skali logarytmicznej). Porównaj czasy działania obu algorytmów. (30%)\n",
    "- Zadanie C – Zdefiniuj układ równań dla $a1 = 3, a2 = a3 = −1$, natomiast $N$ i wektor $b$ określ\n",
    "zgodnie z treścią zadania A. Czy metody iteracyjne dla takich wartości elementów macierzy\n",
    "A zbiegają się? Dla obu metod przedstaw na wykresie jak zmienia się norma residuum\n",
    "w kolejnych iteracjach (oś y w skali logarytmicznej). (10%)\n",
    "- Zadanie D – Zaimplementuj metodę bezpośredniego rozwiązania układów równań liniowych:\n",
    "metodę rozkładu LU. Zastosuj tę implementację do wyznaczenia rozwiązania równania\n",
    "z zadania C. Ile wynosi norma residuum w tym przypadku? (30%)\n",
    "- Zadanie E – Stwórz dwa wykresy zależności czasu wyznaczenia rozwiązania dla trzech badanych metod w zależności od liczby niewiadomych $N = {100, 500, 1000, 2000, 3000 . . . }$ dla\n",
    "macierzy opisanej w zadaniu A. Oba wykresy powinny ilustrować identyczne dane, przy czym\n",
    "pierwszy powinien posiadać liniową skalę osi Y, a drugi skalę logarytmiczną. (10%)\n",
    "- Zadanie F – Zwięźle opisz swoje obserwacje po wykonaniu zadań A–E (15%)."
   ],
   "id": "a0055185033fdd83"
  },
  {
   "metadata": {},
   "cell_type": "markdown",
   "source": [
    "## Lista zadań do projektu\n",
    "\n",
    "- [x] Określ parametry N, a1, a2, a3, b na podstawie Twojego numeru indeksu.\n",
    "- [x] Zaimplementuj metody Jacobiego i Gaussa-Seidla w Pythonie.\n",
    "- [ ] Zaimplementuj metodę faktoryzacji LU w Pythonie.\n",
    "- Wykonaj obliczenia dla zadań\n",
    "    - [x] A,\n",
    "    - [x] B,\n",
    "    - [ ] C,\n",
    "    - [ ] D.\n",
    "    - [ ] E.\n",
    "- [ ] Wygeneruj wymagane wykresy.\n",
    "- [ ] Przygotuj sprawozdanie zawierające analizę wyników i wykresy.\n",
    "- [ ] Opcjonalnie wykonaj zadanie bonusowe dotyczące optymalizacji obliczeń dla macierzy rzadkich.\n",
    "- [ ] Przygotuj kod źródłowy w Pythonie (.py) i opcjonalnie plik requirements.txt."
   ],
   "id": "a4cf8b219590410f"
  }
 ],
 "metadata": {
  "kernelspec": {
   "display_name": "Python 3",
   "language": "python",
   "name": "python3"
  },
  "language_info": {
   "codemirror_mode": {
    "name": "ipython",
    "version": 2
   },
   "file_extension": ".py",
   "mimetype": "text/x-python",
   "name": "python",
   "nbconvert_exporter": "python",
   "pygments_lexer": "ipython2",
   "version": "2.7.6"
  }
 },
 "nbformat": 4,
 "nbformat_minor": 5
}
